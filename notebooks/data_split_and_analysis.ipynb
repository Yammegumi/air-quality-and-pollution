{
 "cells": [
  {
   "cell_type": "markdown",
   "source": [
    "# Podział danych i analiza wstępna\n",
    "\n",
    "## Import potrzebnych bibliotek"
   ],
   "metadata": {
    "collapsed": false
   },
   "id": "b73736e191691153"
  },
  {
   "cell_type": "code",
   "execution_count": 2,
   "id": "initial_id",
   "metadata": {
    "collapsed": true,
    "ExecuteTime": {
     "end_time": "2024-12-02T20:45:23.870829Z",
     "start_time": "2024-12-02T20:45:22.495295Z"
    }
   },
   "outputs": [],
   "source": [
    "import pandas as pd\n",
    "import numpy as np\n",
    "from sklearn.model_selection import train_test_split\n",
    "import matplotlib.pyplot as plt\n",
    "import seaborn as sns"
   ]
  },
  {
   "cell_type": "markdown",
   "source": [
    "# Wczytanie danych\n",
    "\n",
    "## Dane są wczytywane z lokalnego pliku CSV."
   ],
   "metadata": {
    "collapsed": false
   },
   "id": "8cee00a59fa044fc"
  },
  {
   "cell_type": "code",
   "outputs": [
    {
     "name": "stdout",
     "output_type": "stream",
     "text": [
      "   Temperature  Humidity  PM2.5  PM10   NO2   SO2    CO  \\\n",
      "0         27.2      51.7   35.1  46.2  26.7  32.2  0.98   \n",
      "1         26.3      59.3    1.0   6.2  38.3  20.4  0.68   \n",
      "2         27.9      73.2   20.0  39.4  19.6   5.8  0.95   \n",
      "3         23.9      51.9   14.7  24.3   5.2  12.6  1.24   \n",
      "4         25.2      59.0   26.3  30.9  26.8  13.5  1.06   \n",
      "\n",
      "   Proximity_to_Industrial_Areas  Population_Density Air Quality  \n",
      "0                           11.2                 314   Hazardous  \n",
      "1                           13.5                 298        Good  \n",
      "2                            5.4                 309        Good  \n",
      "3                            4.5                 282        Poor  \n",
      "4                            5.6                 293        Poor  \n"
     ]
    }
   ],
   "source": [
    "# Wczytanie danych\n",
    "file_path = 'C:\\\\Users\\\\shind\\\\Documents\\\\GitHub\\\\s26102-Air-Quality-And-Pollution\\\\data\\\\pollution_dataset.csv'  # Ścieżka do pliku\n",
    "data = pd.read_csv(file_path)\n",
    "\n",
    "# Podgląd danych\n",
    "print(data.head())"
   ],
   "metadata": {
    "collapsed": false,
    "ExecuteTime": {
     "end_time": "2024-12-02T20:46:20.295378Z",
     "start_time": "2024-12-02T20:46:20.278340Z"
    }
   },
   "id": "468f2a39243557d3",
   "execution_count": 4
  },
  {
   "cell_type": "markdown",
   "source": [
    "# Podział danych na zbiory\n",
    "\n",
    "## Podział danych na cechy (X) i etykiety (y) oraz ich rozdzielenie na zbiór treningowy i walidacyjny (70%-30%)."
   ],
   "metadata": {
    "collapsed": false
   },
   "id": "eb33366ca32dc846"
  },
  {
   "cell_type": "code",
   "outputs": [
    {
     "name": "stdout",
     "output_type": "stream",
     "text": [
      "Rozmiar zbioru treningowego: 3500\n",
      "Rozmiar zbioru walidacyjnego: 1500\n"
     ]
    }
   ],
   "source": [
    "# Podział danych na cechy i etykiety\n",
    "X = data.drop(columns=['Air Quality'])\n",
    "y = data['Air Quality']\n",
    "\n",
    "# Podział na zbiory treningowy i walidacyjny\n",
    "X_train, X_test, y_train, y_test = train_test_split(X, y, test_size=0.3, random_state=42, stratify=y)\n",
    "\n",
    "# Weryfikacja rozmiarów podziału\n",
    "print(\"Rozmiar zbioru treningowego:\", X_train.shape[0])\n",
    "print(\"Rozmiar zbioru walidacyjnego:\", X_test.shape[0])"
   ],
   "metadata": {
    "collapsed": false,
    "ExecuteTime": {
     "end_time": "2024-12-02T20:46:25.747748Z",
     "start_time": "2024-12-02T20:46:25.734620Z"
    }
   },
   "id": "7c0df9e08a61362d",
   "execution_count": 5
  },
  {
   "cell_type": "markdown",
   "source": [
    "# Podstawowe statystyki\n",
    "\n",
    "## Obliczenie statystyk dla całego zestawu danych oraz dla zbiorów treningowego i walidacyjnego."
   ],
   "metadata": {
    "collapsed": false
   },
   "id": "bb1b53bc751dd2c0"
  },
  {
   "cell_type": "code",
   "outputs": [
    {
     "name": "stdout",
     "output_type": "stream",
     "text": [
      "Statystyki dla całego zestawu danych:\n",
      "       Temperature     Humidity        PM2.5         PM10         NO2  \\\n",
      "count  5000.000000  5000.000000  5000.000000  5000.000000  5000.00000   \n",
      "mean     25.464580    60.068140    29.905580    40.003700    21.00036   \n",
      "std       5.486219    15.044806    30.285899    30.693124    11.30099   \n",
      "min       3.500000    10.000000     0.000000    -1.400000   -13.50000   \n",
      "25%      21.800000    49.900000     8.500000    18.900000    13.80000   \n",
      "50%      25.300000    60.200000    20.600000    31.100000    20.50000   \n",
      "75%      28.900000    70.100000    41.500000    51.500000    27.50000   \n",
      "max      46.200000   100.000000   249.000000   256.100000    96.40000   \n",
      "\n",
      "               SO2           CO  Proximity_to_Industrial_Areas  \\\n",
      "count  5000.000000  5000.000000                    5000.000000   \n",
      "mean     15.141060     0.904314                       5.031880   \n",
      "std       7.668466     0.297840                       5.010352   \n",
      "min       0.000000    -0.080000                       0.000000   \n",
      "25%       9.900000     0.700000                       1.500000   \n",
      "50%      15.100000     0.905000                       3.500000   \n",
      "75%      20.400000     1.100000                       6.900000   \n",
      "max      41.700000     2.140000                      46.300000   \n",
      "\n",
      "       Population_Density  \n",
      "count         5000.000000  \n",
      "mean           299.948200  \n",
      "std             17.215133  \n",
      "min            243.000000  \n",
      "25%            288.000000  \n",
      "50%            300.000000  \n",
      "75%            311.000000  \n",
      "max            358.000000  \n",
      "Statystyki dla zbioru treningowego:\n",
      "       Temperature     Humidity        PM2.5         PM10          NO2  \\\n",
      "count  3500.000000  3500.000000  3500.000000  3500.000000  3500.000000   \n",
      "mean     25.407400    60.192771    30.025029    40.104143    21.014629   \n",
      "std       5.505775    15.018131    30.221566    30.619962    11.428174   \n",
      "min       3.500000    10.000000     0.000000    -1.400000   -11.700000   \n",
      "25%      21.800000    50.000000     8.500000    19.000000    13.700000   \n",
      "50%      25.200000    60.200000    20.500000    30.800000    20.500000   \n",
      "75%      28.800000    70.000000    41.800000    51.725000    27.525000   \n",
      "max      46.200000   100.000000   241.600000   239.000000    96.400000   \n",
      "\n",
      "               SO2           CO  Proximity_to_Industrial_Areas  \\\n",
      "count  3500.000000  3500.000000                    3500.000000   \n",
      "mean     15.121629     0.909591                       5.027086   \n",
      "std       7.630282     0.298753                       5.037300   \n",
      "min       0.000000    -0.070000                       0.000000   \n",
      "25%       9.875000     0.700000                       1.500000   \n",
      "50%      15.100000     0.910000                       3.400000   \n",
      "75%      20.325000     1.110000                       6.800000   \n",
      "max      41.000000     2.140000                      46.300000   \n",
      "\n",
      "       Population_Density  \n",
      "count         3500.000000  \n",
      "mean           299.871714  \n",
      "std             17.358972  \n",
      "min            243.000000  \n",
      "25%            288.000000  \n",
      "50%            300.000000  \n",
      "75%            311.000000  \n",
      "max            358.000000  \n",
      "Statystyki dla zbioru walidacyjnego:\n",
      "       Temperature     Humidity        PM2.5         PM10          NO2  \\\n",
      "count  1500.000000  1500.000000  1500.000000  1500.000000  1500.000000   \n",
      "mean     25.598000    59.777333    29.626867    39.769333    20.967067   \n",
      "std       5.439803    15.107887    30.443764    30.872133    11.002192   \n",
      "min       9.700000    14.400000     0.000000    -1.000000   -13.500000   \n",
      "25%      22.100000    49.800000     8.500000    18.500000    13.900000   \n",
      "50%      25.500000    60.200000    20.800000    31.600000    20.450000   \n",
      "75%      29.100000    70.300000    40.725000    51.000000    27.200000   \n",
      "max      45.800000   100.000000   249.000000   256.100000    88.000000   \n",
      "\n",
      "               SO2           CO  Proximity_to_Industrial_Areas  \\\n",
      "count  1500.000000  1500.000000                    1500.000000   \n",
      "mean     15.186400     0.892000                       5.043067   \n",
      "std       7.759203     0.295433                       4.948552   \n",
      "min       0.000000    -0.080000                       0.000000   \n",
      "25%       9.900000     0.690000                       1.500000   \n",
      "50%      15.100000     0.900000                       3.600000   \n",
      "75%      20.600000     1.090000                       7.000000   \n",
      "max      41.700000     1.820000                      38.500000   \n",
      "\n",
      "       Population_Density  \n",
      "count         1500.000000  \n",
      "mean           300.126667  \n",
      "std             16.879116  \n",
      "min            250.000000  \n",
      "25%            288.000000  \n",
      "50%            300.000000  \n",
      "75%            312.000000  \n",
      "max            352.000000  \n"
     ]
    }
   ],
   "source": [
    "# Statystyki dla całego zestawu danych\n",
    "print(\"Statystyki dla całego zestawu danych:\")\n",
    "print(data.describe())\n",
    "\n",
    "# Statystyki dla zbioru treningowego\n",
    "print(\"Statystyki dla zbioru treningowego:\")\n",
    "print(X_train.describe())\n",
    "\n",
    "# Statystyki dla zbioru walidacyjnego\n",
    "print(\"Statystyki dla zbioru walidacyjnego:\")\n",
    "print(X_test.describe())"
   ],
   "metadata": {
    "collapsed": false,
    "ExecuteTime": {
     "end_time": "2024-12-02T20:49:46.070884Z",
     "start_time": "2024-12-02T20:49:46.027356Z"
    }
   },
   "id": "a5833e5083bf6455",
   "execution_count": 10
  },
  {
   "cell_type": "markdown",
   "source": [
    "# Wizualizacja rozkładu etykiet\n",
    "\n",
    "## Wizualizacja rozkładu poziomów jakości powietrza w zbiorze danych."
   ],
   "metadata": {
    "collapsed": false
   },
   "id": "8777eefb29150cf0"
  },
  {
   "cell_type": "code",
   "outputs": [
    {
     "data": {
      "text/plain": "<Figure size 640x480 with 1 Axes>",
      "image/png": "[encoded data removed]"
     },
     "metadata": {},
     "output_type": "display_data"
    }
   ],
   "source": [
    "sns.countplot(y)\n",
    "plt.title(\"Rozkład klas w zbiorze danych\")\n",
    "plt.xlabel(\"Poziom jakości powietrza\")\n",
    "plt.ylabel(\"Liczba próbek\")\n",
    "plt.show()"
   ],
   "metadata": {
    "collapsed": false,
    "ExecuteTime": {
     "end_time": "2024-12-02T20:46:35.781928Z",
     "start_time": "2024-12-02T20:46:35.618760Z"
    }
   },
   "id": "482055f03fe2c58a",
   "execution_count": 7
  },
  {
   "cell_type": "markdown",
   "source": [
    "# Zapis podzielonych zbiorów\n",
    "\n",
    "## Zapisanie zbiorów danych do plików CSV w celu późniejszego wykorzystania."
   ],
   "metadata": {
    "collapsed": false
   },
   "id": "be8173be51cfe273"
  },
  {
   "cell_type": "code",
   "outputs": [],
   "source": [
    "X_train.to_csv('C:\\\\Users\\\\shind\\\\Documents\\\\GitHub\\\\s26102-Air-Quality-And-Pollution\\\\data\\\\X_train.csv', index=False)\n",
    "X_test.to_csv('C:\\\\Users\\\\shind\\\\Documents\\\\GitHub\\\\s26102-Air-Quality-And-Pollution\\\\data\\\\X_test.csv', index=False)\n",
    "y_train.to_csv('C:\\\\Users\\\\shind\\\\Documents\\\\GitHub\\\\s26102-Air-Quality-And-Pollution\\\\data\\\\y_train.csv', index=False)\n",
    "y_test.to_csv('C:\\\\Users\\\\shind\\\\Documents\\\\GitHub\\\\s26102-Air-Quality-And-Pollution\\\\data\\\\y_test.csv', index=False)"
   ],
   "metadata": {
    "collapsed": false,
    "ExecuteTime": {
     "end_time": "2024-12-02T20:48:04.130118Z",
     "start_time": "2024-12-02T20:48:04.103341Z"
    }
   },
   "id": "d642b9a748a1c94",
   "execution_count": 9
  }
 ],
 "metadata": {
  "kernelspec": {
   "display_name": "Python 3",
   "language": "python",
   "name": "python3"
  },
  "language_info": {
   "codemirror_mode": {
    "name": "ipython",
    "version": 2
   },
   "file_extension": ".py",
   "mimetype": "text/x-python",
   "name": "python",
   "nbconvert_exporter": "python",
   "pygments_lexer": "ipython2",
   "version": "2.7.6"
  }
 },
 "nbformat": 4,
 "nbformat_minor": 5
}
