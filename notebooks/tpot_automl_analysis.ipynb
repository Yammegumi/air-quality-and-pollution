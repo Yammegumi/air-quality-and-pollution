{
 "cells": [
  {
   "cell_type": "markdown",
   "source": [
    "# Import bilbiotek"
   ],
   "metadata": {
    "collapsed": false
   },
   "id": "adc6606c77750d6d"
  },
  {
   "cell_type": "code",
   "execution_count": 1,
   "id": "initial_id",
   "metadata": {
    "collapsed": true,
    "ExecuteTime": {
     "end_time": "2024-12-02T22:04:23.926222Z",
     "start_time": "2024-12-02T22:04:23.481952Z"
    }
   },
   "outputs": [],
   "source": [
    "import pandas as pd\n",
    "from sklearn.model_selection import train_test_split\n",
    "from sklearn.preprocessing import LabelEncoder"
   ]
  },
  {
   "cell_type": "markdown",
   "source": [
    "# Przygotowanie danych"
   ],
   "metadata": {
    "collapsed": false
   },
   "id": "56fe921b7a25b916"
  },
  {
   "cell_type": "code",
   "outputs": [],
   "source": [
    "# Wczytanie danych\n",
    "file_path = 'C:\\\\Users\\\\shind\\\\Documents\\\\GitHub\\\\s26102-Air-Quality-And-Pollution\\\\data\\\\pollution_dataset.csv'\n",
    "data = pd.read_csv(file_path)\n",
    "\n",
    "# Usunięcie wartości odstających i kolumn redundantnych (PM10, jeśli wybrano PM2.5)\n",
    "data = data[data['NO2'] >= 0]  # Usunięcie niefizycznych wartości\n",
    "X = data.drop(columns=['Air Quality', 'PM10'])  # Wybór cech\n",
    "y = LabelEncoder().fit_transform(data['Air Quality'])  # Transformacja Air Quality na liczby\n",
    "\n",
    "# Podział danych\n",
    "X_train, X_test, y_train, y_test = train_test_split(X, y, test_size=0.3, random_state=42)"
   ],
   "metadata": {
    "collapsed": false,
    "ExecuteTime": {
     "end_time": "2024-12-02T22:04:42.555342Z",
     "start_time": "2024-12-02T22:04:42.534416Z"
    }
   },
   "id": "e62a4f9ef1a0a59",
   "execution_count": 3
  },
  {
   "cell_type": "markdown",
   "source": [
    "# Uruchomienie TPOT"
   ],
   "metadata": {
    "collapsed": false
   },
   "id": "4193f7809524d38e"
  },
  {
   "cell_type": "code",
   "outputs": [
    {
     "name": "stdout",
     "output_type": "stream",
     "text": [
      "32 operators have been imported by TPOT.\n"
     ]
    },
    {
     "data": {
      "text/plain": "Optimization Progress:   0%|          | 0/300 [00:00<?, ?pipeline/s]",
      "application/vnd.jupyter.widget-view+json": {
       "version_major": 2,
       "version_minor": 0,
       "model_id": "0062a4a8b1fb4c89b0da8f1cc7132c9d"
      }
     },
     "metadata": {},
     "output_type": "display_data"
    },
    {
     "name": "stdout",
     "output_type": "stream",
     "text": [
      "_pre_test decorator: _random_mutation_operator: num_test=0 Solver lbfgs supports only 'l2' or None penalties, got l1 penalty..\n",
      "_pre_test decorator: _random_mutation_operator: num_test=0 Solver lbfgs supports only 'l2' or None penalties, got l1 penalty..\n",
      "\n",
      "Generation 1 - Current Pareto front scores:\n",
      "\n",
      "-1\t0.39644016939413934\tBernoulliNB(input_matrix, BernoulliNB__alpha=0.001, BernoulliNB__fit_prior=True)\n",
      "\n",
      "Generation 2 - Current Pareto front scores:\n",
      "\n",
      "-1\t0.39644016939413934\tBernoulliNB(input_matrix, BernoulliNB__alpha=0.001, BernoulliNB__fit_prior=True)\n",
      "\n",
      "-2\t0.3964414462343853\tBernoulliNB(MinMaxScaler(input_matrix), BernoulliNB__alpha=10.0, BernoulliNB__fit_prior=True)\n",
      "\n",
      "Generation 3 - Current Pareto front scores:\n",
      "\n",
      "-1\t0.3970266646804707\tDecisionTreeClassifier(input_matrix, DecisionTreeClassifier__criterion=gini, DecisionTreeClassifier__max_depth=3, DecisionTreeClassifier__min_samples_leaf=7, DecisionTreeClassifier__min_samples_split=20)\n",
      "\n",
      "-2\t0.39819114298482683\tMLPClassifier(Binarizer(input_matrix, Binarizer__threshold=0.6000000000000001), MLPClassifier__alpha=0.1, MLPClassifier__learning_rate_init=0.001)\n",
      "_pre_test decorator: _random_mutation_operator: num_test=0 (slice(None, None, None), 0).\n",
      "_pre_test decorator: _random_mutation_operator: num_test=0 Solver lbfgs supports only 'l2' or None penalties, got l1 penalty..\n",
      "_pre_test decorator: _random_mutation_operator: num_test=0 Solver lbfgs supports only 'l2' or None penalties, got l1 penalty..\n",
      "_pre_test decorator: _random_mutation_operator: num_test=1 (slice(None, None, None), 0).\n",
      "_pre_test decorator: _random_mutation_operator: num_test=0 (slice(None, None, None), 0).\n",
      "\n",
      "Generation 4 - Current Pareto front scores:\n",
      "\n",
      "-1\t0.3970266646804707\tDecisionTreeClassifier(input_matrix, DecisionTreeClassifier__criterion=gini, DecisionTreeClassifier__max_depth=3, DecisionTreeClassifier__min_samples_leaf=7, DecisionTreeClassifier__min_samples_split=20)\n",
      "\n",
      "-2\t0.39819114298482683\tMLPClassifier(Binarizer(input_matrix, Binarizer__threshold=0.6000000000000001), MLPClassifier__alpha=0.1, MLPClassifier__learning_rate_init=0.001)\n",
      "Pipeline encountered that has previously been evaluated during the optimization process. Using the score from the previous evaluation.\n",
      "\n",
      "Generation 5 - Current Pareto front scores:\n",
      "\n",
      "-1\t0.3976097550594795\tDecisionTreeClassifier(input_matrix, DecisionTreeClassifier__criterion=gini, DecisionTreeClassifier__max_depth=3, DecisionTreeClassifier__min_samples_leaf=17, DecisionTreeClassifier__min_samples_split=20)\n",
      "\n",
      "-2\t0.39819114298482683\tMLPClassifier(Binarizer(input_matrix, Binarizer__threshold=0.6000000000000001), MLPClassifier__alpha=0.1, MLPClassifier__learning_rate_init=0.001)\n",
      "Najlepszy pipeline sugerowany przez TPOT:\n",
      "Pipeline(steps=[('binarizer', Binarizer(threshold=0.6000000000000001)),\n",
      "                ('mlpclassifier', MLPClassifier(alpha=0.1, random_state=42))])\n"
     ]
    }
   ],
   "source": [
    "from tpot import TPOTClassifier\n",
    "\n",
    "# Inicjalizacja TPOT\n",
    "tpot = TPOTClassifier(generations=5, population_size=50, verbosity=3, random_state=42, scoring='accuracy', n_jobs=-1)\n",
    "\n",
    "# Trening AutoML\n",
    "tpot.fit(X_train, y_train)\n",
    "\n",
    "# Zapis wyników do logu\n",
    "with open(\"tpot_log.txt\", \"w\") as f:\n",
    "    for pipeline in tpot.evaluated_individuals_:\n",
    "        f.write(f\"{pipeline}: {tpot.evaluated_individuals_[pipeline]}\\n\")\n",
    "\n",
    "# Wyświetlenie najlepszego modelu\n",
    "print(\"Najlepszy pipeline sugerowany przez TPOT:\")\n",
    "print(tpot.fitted_pipeline_)\n",
    "\n",
    "# Zapis modelu i kodu\n",
    "tpot.export('tpot_best_pipeline.py')"
   ],
   "metadata": {
    "collapsed": false,
    "ExecuteTime": {
     "end_time": "2024-12-02T22:12:44.610069Z",
     "start_time": "2024-12-02T22:11:43.122875Z"
    }
   },
   "id": "e88d6f6bc69b529d",
   "execution_count": 5
  },
  {
   "cell_type": "code",
   "outputs": [],
   "source": [],
   "metadata": {
    "collapsed": false
   },
   "id": "e689dc68c7dcc779"
  }
 ],
 "metadata": {
  "kernelspec": {
   "display_name": "Python 3",
   "language": "python",
   "name": "python3"
  },
  "language_info": {
   "codemirror_mode": {
    "name": "ipython",
    "version": 2
   },
   "file_extension": ".py",
   "mimetype": "text/x-python",
   "name": "python",
   "nbconvert_exporter": "python",
   "pygments_lexer": "ipython2",
   "version": "2.7.6"
  }
 },
 "nbformat": 4,
 "nbformat_minor": 5
}
