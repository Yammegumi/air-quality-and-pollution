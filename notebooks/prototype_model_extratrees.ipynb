{
 "cells": [
  {
   "cell_type": "markdown",
   "source": [
    "# Prototypowy model\n",
    "\n",
    "Ten notebook implementuje model ExtraTreesClassifier do przewidywania jakości powietrza w uproszczonej formie:\n",
    "- Klasa `1`: Good + Moderate\n",
    "- Klasa `0`: Poor + Hazardous\n",
    "\n",
    "## Import bibliotek i wczytanie danych"
   ],
   "metadata": {
    "collapsed": false
   },
   "id": "af82b74fc52abfbd"
  },
  {
   "cell_type": "code",
   "execution_count": 16,
   "id": "initial_id",
   "metadata": {
    "collapsed": true,
    "ExecuteTime": {
     "end_time": "2024-12-02T23:17:13.560100Z",
     "start_time": "2024-12-02T23:17:13.533111Z"
    }
   },
   "outputs": [
    {
     "name": "stdout",
     "output_type": "stream",
     "text": [
      "Rozkład klas w zbiorze treningowym:\n",
      " Air Quality Binary\n",
      "1    2435\n",
      "0    1065\n",
      "Name: count, dtype: int64\n",
      "Rozkład klas w zbiorze walidacyjnym:\n",
      " Air Quality Binary\n",
      "1    1065\n",
      "0     435\n",
      "Name: count, dtype: int64\n"
     ]
    }
   ],
   "source": [
    "# Import bibliotek\n",
    "import pandas as pd\n",
    "from sklearn.ensemble import ExtraTreesClassifier\n",
    "from sklearn.model_selection import train_test_split\n",
    "from sklearn.metrics import classification_report, accuracy_score\n",
    "\n",
    "# Wczytanie danych\n",
    "file_path = 'C:\\\\Users\\\\shind\\\\Documents\\\\GitHub\\\\s26102-Air-Quality-And-Pollution\\\\data\\\\pollution_dataset.csv'\n",
    "data = pd.read_csv(file_path)\n",
    "\n",
    "# Przekształcenie zmiennej Air Quality na klasy binarne\n",
    "data['Air Quality Binary'] = data['Air Quality'].map(\n",
    "    lambda x: 1 if x in ['Good', 'Moderate'] else 0\n",
    ")\n",
    "\n",
    "# Usuwanie niepotrzebnych kolumn\n",
    "X = data.drop(columns=['Air Quality', 'Air Quality Binary', 'PM10'])  # PM10 jako redundantna\n",
    "y = data['Air Quality Binary']\n",
    "\n",
    "# Podział na zbiory treningowe i walidacyjne\n",
    "X_train, X_val, y_train, y_val = train_test_split(X, y, test_size=0.3, random_state=42)\n",
    "\n",
    "# Rozkład klas w zbiorach\n",
    "print(\"Rozkład klas w zbiorze treningowym:\\n\", y_train.value_counts())\n",
    "print(\"Rozkład klas w zbiorze walidacyjnym:\\n\", y_val.value_counts())\n"
   ]
  },
  {
   "cell_type": "markdown",
   "source": [
    "## Inicjalizacja modelu"
   ],
   "metadata": {
    "collapsed": false
   },
   "id": "418c4e481bcc7da6"
  },
  {
   "cell_type": "code",
   "outputs": [],
   "source": [
    "model = ExtraTreesClassifier(\n",
    "    bootstrap=True,\n",
    "    criterion='entropy',\n",
    "    max_features=0.6,\n",
    "    min_samples_leaf=20,\n",
    "    min_samples_split=20,\n",
    "    n_estimators=100,\n",
    "    random_state=42\n",
    ")"
   ],
   "metadata": {
    "collapsed": false,
    "ExecuteTime": {
     "end_time": "2024-12-02T23:06:27.139550Z",
     "start_time": "2024-12-02T23:06:27.136464Z"
    }
   },
   "id": "9803b71b140eb605",
   "execution_count": 12
  },
  {
   "cell_type": "markdown",
   "source": [
    "## Trenowanie modelu"
   ],
   "metadata": {
    "collapsed": false
   },
   "id": "21dce3e28e669cc6"
  },
  {
   "cell_type": "code",
   "outputs": [
    {
     "data": {
      "text/plain": "ExtraTreesClassifier(bootstrap=True, criterion='entropy', max_features=0.6,\n                     min_samples_leaf=20, min_samples_split=20,\n                     random_state=42)",
      "text/html": "<style>#sk-container-id-3 {\n  /* Definition of color scheme common for light and dark mode */\n  --sklearn-color-text: black;\n  --sklearn-color-line: gray;\n  /* Definition of color scheme for unfitted estimators */\n  --sklearn-color-unfitted-level-0: #fff5e6;\n  --sklearn-color-unfitted-level-1: #f6e4d2;\n  --sklearn-color-unfitted-level-2: #ffe0b3;\n  --sklearn-color-unfitted-level-3: chocolate;\n  /* Definition of color scheme for fitted estimators */\n  --sklearn-color-fitted-level-0: #f0f8ff;\n  --sklearn-color-fitted-level-1: #d4ebff;\n  --sklearn-color-fitted-level-2: #b3dbfd;\n  --sklearn-color-fitted-level-3: cornflowerblue;\n\n  /* Specific color for light theme */\n  --sklearn-color-text-on-default-background: var(--sg-text-color, var(--theme-code-foreground, var(--jp-content-font-color1, black)));\n  --sklearn-color-background: var(--sg-background-color, var(--theme-background, var(--jp-layout-color0, white)));\n  --sklearn-color-border-box: var(--sg-text-color, var(--theme-code-foreground, var(--jp-content-font-color1, black)));\n  --sklearn-color-icon: #696969;\n\n  @media (prefers-color-scheme: dark) {\n    /* Redefinition of color scheme for dark theme */\n    --sklearn-color-text-on-default-background: var(--sg-text-color, var(--theme-code-foreground, var(--jp-content-font-color1, white)));\n    --sklearn-color-background: var(--sg-background-color, var(--theme-background, var(--jp-layout-color0, #111)));\n    --sklearn-color-border-box: var(--sg-text-color, var(--theme-code-foreground, var(--jp-content-font-color1, white)));\n    --sklearn-color-icon: #878787;\n  }\n}\n\n#sk-container-id-3 {\n  color: var(--sklearn-color-text);\n}\n\n#sk-container-id-3 pre {\n  padding: 0;\n}\n\n#sk-container-id-3 input.sk-hidden--visually {\n  border: 0;\n  clip: rect(1px 1px 1px 1px);\n  clip: rect(1px, 1px, 1px, 1px);\n  height: 1px;\n  margin: -1px;\n  overflow: hidden;\n  padding: 0;\n  position: absolute;\n  width: 1px;\n}\n\n#sk-container-id-3 div.sk-dashed-wrapped {\n  border: 1px dashed var(--sklearn-color-line);\n  margin: 0 0.4em 0.5em 0.4em;\n  box-sizing: border-box;\n  padding-bottom: 0.4em;\n  background-color: var(--sklearn-color-background);\n}\n\n#sk-container-id-3 div.sk-container {\n  /* jupyter's `normalize.less` sets `[hidden] { display: none; }`\n     but bootstrap.min.css set `[hidden] { display: none !important; }`\n     so we also need the `!important` here to be able to override the\n     default hidden behavior on the sphinx rendered scikit-learn.org.\n     See: https://github.com/scikit-learn/scikit-learn/issues/21755 */\n  display: inline-block !important;\n  position: relative;\n}\n\n#sk-container-id-3 div.sk-text-repr-fallback {\n  display: none;\n}\n\ndiv.sk-parallel-item,\ndiv.sk-serial,\ndiv.sk-item {\n  /* draw centered vertical line to link estimators */\n  background-image: linear-gradient(var(--sklearn-color-text-on-default-background), var(--sklearn-color-text-on-default-background));\n  background-size: 2px 100%;\n  background-repeat: no-repeat;\n  background-position: center center;\n}\n\n/* Parallel-specific style estimator block */\n\n#sk-container-id-3 div.sk-parallel-item::after {\n  content: \"\";\n  width: 100%;\n  border-bottom: 2px solid var(--sklearn-color-text-on-default-background);\n  flex-grow: 1;\n}\n\n#sk-container-id-3 div.sk-parallel {\n  display: flex;\n  align-items: stretch;\n  justify-content: center;\n  background-color: var(--sklearn-color-background);\n  position: relative;\n}\n\n#sk-container-id-3 div.sk-parallel-item {\n  display: flex;\n  flex-direction: column;\n}\n\n#sk-container-id-3 div.sk-parallel-item:first-child::after {\n  align-self: flex-end;\n  width: 50%;\n}\n\n#sk-container-id-3 div.sk-parallel-item:last-child::after {\n  align-self: flex-start;\n  width: 50%;\n}\n\n#sk-container-id-3 div.sk-parallel-item:only-child::after {\n  width: 0;\n}\n\n/* Serial-specific style estimator block */\n\n#sk-container-id-3 div.sk-serial {\n  display: flex;\n  flex-direction: column;\n  align-items: center;\n  background-color: var(--sklearn-color-background);\n  padding-right: 1em;\n  padding-left: 1em;\n}\n\n\n/* Toggleable style: style used for estimator/Pipeline/ColumnTransformer box that is\nclickable and can be expanded/collapsed.\n- Pipeline and ColumnTransformer use this feature and define the default style\n- Estimators will overwrite some part of the style using the `sk-estimator` class\n*/\n\n/* Pipeline and ColumnTransformer style (default) */\n\n#sk-container-id-3 div.sk-toggleable {\n  /* Default theme specific background. It is overwritten whether we have a\n  specific estimator or a Pipeline/ColumnTransformer */\n  background-color: var(--sklearn-color-background);\n}\n\n/* Toggleable label */\n#sk-container-id-3 label.sk-toggleable__label {\n  cursor: pointer;\n  display: block;\n  width: 100%;\n  margin-bottom: 0;\n  padding: 0.5em;\n  box-sizing: border-box;\n  text-align: center;\n}\n\n#sk-container-id-3 label.sk-toggleable__label-arrow:before {\n  /* Arrow on the left of the label */\n  content: \"▸\";\n  float: left;\n  margin-right: 0.25em;\n  color: var(--sklearn-color-icon);\n}\n\n#sk-container-id-3 label.sk-toggleable__label-arrow:hover:before {\n  color: var(--sklearn-color-text);\n}\n\n/* Toggleable content - dropdown */\n\n#sk-container-id-3 div.sk-toggleable__content {\n  max-height: 0;\n  max-width: 0;\n  overflow: hidden;\n  text-align: left;\n  /* unfitted */\n  background-color: var(--sklearn-color-unfitted-level-0);\n}\n\n#sk-container-id-3 div.sk-toggleable__content.fitted {\n  /* fitted */\n  background-color: var(--sklearn-color-fitted-level-0);\n}\n\n#sk-container-id-3 div.sk-toggleable__content pre {\n  margin: 0.2em;\n  border-radius: 0.25em;\n  color: var(--sklearn-color-text);\n  /* unfitted */\n  background-color: var(--sklearn-color-unfitted-level-0);\n}\n\n#sk-container-id-3 div.sk-toggleable__content.fitted pre {\n  /* unfitted */\n  background-color: var(--sklearn-color-fitted-level-0);\n}\n\n#sk-container-id-3 input.sk-toggleable__control:checked~div.sk-toggleable__content {\n  /* Expand drop-down */\n  max-height: 200px;\n  max-width: 100%;\n  overflow: auto;\n}\n\n#sk-container-id-3 input.sk-toggleable__control:checked~label.sk-toggleable__label-arrow:before {\n  content: \"▾\";\n}\n\n/* Pipeline/ColumnTransformer-specific style */\n\n#sk-container-id-3 div.sk-label input.sk-toggleable__control:checked~label.sk-toggleable__label {\n  color: var(--sklearn-color-text);\n  background-color: var(--sklearn-color-unfitted-level-2);\n}\n\n#sk-container-id-3 div.sk-label.fitted input.sk-toggleable__control:checked~label.sk-toggleable__label {\n  background-color: var(--sklearn-color-fitted-level-2);\n}\n\n/* Estimator-specific style */\n\n/* Colorize estimator box */\n#sk-container-id-3 div.sk-estimator input.sk-toggleable__control:checked~label.sk-toggleable__label {\n  /* unfitted */\n  background-color: var(--sklearn-color-unfitted-level-2);\n}\n\n#sk-container-id-3 div.sk-estimator.fitted input.sk-toggleable__control:checked~label.sk-toggleable__label {\n  /* fitted */\n  background-color: var(--sklearn-color-fitted-level-2);\n}\n\n#sk-container-id-3 div.sk-label label.sk-toggleable__label,\n#sk-container-id-3 div.sk-label label {\n  /* The background is the default theme color */\n  color: var(--sklearn-color-text-on-default-background);\n}\n\n/* On hover, darken the color of the background */\n#sk-container-id-3 div.sk-label:hover label.sk-toggleable__label {\n  color: var(--sklearn-color-text);\n  background-color: var(--sklearn-color-unfitted-level-2);\n}\n\n/* Label box, darken color on hover, fitted */\n#sk-container-id-3 div.sk-label.fitted:hover label.sk-toggleable__label.fitted {\n  color: var(--sklearn-color-text);\n  background-color: var(--sklearn-color-fitted-level-2);\n}\n\n/* Estimator label */\n\n#sk-container-id-3 div.sk-label label {\n  font-family: monospace;\n  font-weight: bold;\n  display: inline-block;\n  line-height: 1.2em;\n}\n\n#sk-container-id-3 div.sk-label-container {\n  text-align: center;\n}\n\n/* Estimator-specific */\n#sk-container-id-3 div.sk-estimator {\n  font-family: monospace;\n  border: 1px dotted var(--sklearn-color-border-box);\n  border-radius: 0.25em;\n  box-sizing: border-box;\n  margin-bottom: 0.5em;\n  /* unfitted */\n  background-color: var(--sklearn-color-unfitted-level-0);\n}\n\n#sk-container-id-3 div.sk-estimator.fitted {\n  /* fitted */\n  background-color: var(--sklearn-color-fitted-level-0);\n}\n\n/* on hover */\n#sk-container-id-3 div.sk-estimator:hover {\n  /* unfitted */\n  background-color: var(--sklearn-color-unfitted-level-2);\n}\n\n#sk-container-id-3 div.sk-estimator.fitted:hover {\n  /* fitted */\n  background-color: var(--sklearn-color-fitted-level-2);\n}\n\n/* Specification for estimator info (e.g. \"i\" and \"?\") */\n\n/* Common style for \"i\" and \"?\" */\n\n.sk-estimator-doc-link,\na:link.sk-estimator-doc-link,\na:visited.sk-estimator-doc-link {\n  float: right;\n  font-size: smaller;\n  line-height: 1em;\n  font-family: monospace;\n  background-color: var(--sklearn-color-background);\n  border-radius: 1em;\n  height: 1em;\n  width: 1em;\n  text-decoration: none !important;\n  margin-left: 1ex;\n  /* unfitted */\n  border: var(--sklearn-color-unfitted-level-1) 1pt solid;\n  color: var(--sklearn-color-unfitted-level-1);\n}\n\n.sk-estimator-doc-link.fitted,\na:link.sk-estimator-doc-link.fitted,\na:visited.sk-estimator-doc-link.fitted {\n  /* fitted */\n  border: var(--sklearn-color-fitted-level-1) 1pt solid;\n  color: var(--sklearn-color-fitted-level-1);\n}\n\n/* On hover */\ndiv.sk-estimator:hover .sk-estimator-doc-link:hover,\n.sk-estimator-doc-link:hover,\ndiv.sk-label-container:hover .sk-estimator-doc-link:hover,\n.sk-estimator-doc-link:hover {\n  /* unfitted */\n  background-color: var(--sklearn-color-unfitted-level-3);\n  color: var(--sklearn-color-background);\n  text-decoration: none;\n}\n\ndiv.sk-estimator.fitted:hover .sk-estimator-doc-link.fitted:hover,\n.sk-estimator-doc-link.fitted:hover,\ndiv.sk-label-container:hover .sk-estimator-doc-link.fitted:hover,\n.sk-estimator-doc-link.fitted:hover {\n  /* fitted */\n  background-color: var(--sklearn-color-fitted-level-3);\n  color: var(--sklearn-color-background);\n  text-decoration: none;\n}\n\n/* Span, style for the box shown on hovering the info icon */\n.sk-estimator-doc-link span {\n  display: none;\n  z-index: 9999;\n  position: relative;\n  font-weight: normal;\n  right: .2ex;\n  padding: .5ex;\n  margin: .5ex;\n  width: min-content;\n  min-width: 20ex;\n  max-width: 50ex;\n  color: var(--sklearn-color-text);\n  box-shadow: 2pt 2pt 4pt #999;\n  /* unfitted */\n  background: var(--sklearn-color-unfitted-level-0);\n  border: .5pt solid var(--sklearn-color-unfitted-level-3);\n}\n\n.sk-estimator-doc-link.fitted span {\n  /* fitted */\n  background: var(--sklearn-color-fitted-level-0);\n  border: var(--sklearn-color-fitted-level-3);\n}\n\n.sk-estimator-doc-link:hover span {\n  display: block;\n}\n\n/* \"?\"-specific style due to the `<a>` HTML tag */\n\n#sk-container-id-3 a.estimator_doc_link {\n  float: right;\n  font-size: 1rem;\n  line-height: 1em;\n  font-family: monospace;\n  background-color: var(--sklearn-color-background);\n  border-radius: 1rem;\n  height: 1rem;\n  width: 1rem;\n  text-decoration: none;\n  /* unfitted */\n  color: var(--sklearn-color-unfitted-level-1);\n  border: var(--sklearn-color-unfitted-level-1) 1pt solid;\n}\n\n#sk-container-id-3 a.estimator_doc_link.fitted {\n  /* fitted */\n  border: var(--sklearn-color-fitted-level-1) 1pt solid;\n  color: var(--sklearn-color-fitted-level-1);\n}\n\n/* On hover */\n#sk-container-id-3 a.estimator_doc_link:hover {\n  /* unfitted */\n  background-color: var(--sklearn-color-unfitted-level-3);\n  color: var(--sklearn-color-background);\n  text-decoration: none;\n}\n\n#sk-container-id-3 a.estimator_doc_link.fitted:hover {\n  /* fitted */\n  background-color: var(--sklearn-color-fitted-level-3);\n}\n</style><div id=\"sk-container-id-3\" class=\"sk-top-container\"><div class=\"sk-text-repr-fallback\"><pre>ExtraTreesClassifier(bootstrap=True, criterion=&#x27;entropy&#x27;, max_features=0.6,\n                     min_samples_leaf=20, min_samples_split=20,\n                     random_state=42)</pre><b>In a Jupyter environment, please rerun this cell to show the HTML representation or trust the notebook. <br />On GitHub, the HTML representation is unable to render, please try loading this page with nbviewer.org.</b></div><div class=\"sk-container\" hidden><div class=\"sk-item\"><div class=\"sk-estimator fitted sk-toggleable\"><input class=\"sk-toggleable__control sk-hidden--visually\" id=\"sk-estimator-id-3\" type=\"checkbox\" checked><label for=\"sk-estimator-id-3\" class=\"sk-toggleable__label fitted sk-toggleable__label-arrow fitted\">&nbsp;&nbsp;ExtraTreesClassifier<a class=\"sk-estimator-doc-link fitted\" rel=\"noreferrer\" target=\"_blank\" href=\"https://scikit-learn.org/1.5/modules/generated/sklearn.ensemble.ExtraTreesClassifier.html\">?<span>Documentation for ExtraTreesClassifier</span></a><span class=\"sk-estimator-doc-link fitted\">i<span>Fitted</span></span></label><div class=\"sk-toggleable__content fitted\"><pre>ExtraTreesClassifier(bootstrap=True, criterion=&#x27;entropy&#x27;, max_features=0.6,\n                     min_samples_leaf=20, min_samples_split=20,\n                     random_state=42)</pre></div> </div></div></div></div>"
     },
     "execution_count": 13,
     "metadata": {},
     "output_type": "execute_result"
    }
   ],
   "source": [
    "model.fit(X_train, y_train)"
   ],
   "metadata": {
    "collapsed": false,
    "ExecuteTime": {
     "end_time": "2024-12-02T23:06:34.618059Z",
     "start_time": "2024-12-02T23:06:34.496037Z"
    }
   },
   "id": "b64e001fad410f60",
   "execution_count": 13
  },
  {
   "cell_type": "markdown",
   "source": [
    "## Ewaluacja modelu"
   ],
   "metadata": {
    "collapsed": false
   },
   "id": "3e8d657dd9d9143e"
  },
  {
   "cell_type": "code",
   "outputs": [
    {
     "name": "stdout",
     "output_type": "stream",
     "text": [
      "Dokładność na zbiorze walidacyjnym: 0.71\n",
      "Raport klasyfikacji:\n",
      "                precision    recall  f1-score   support\n",
      "\n",
      "Poor+Hazardous       0.00      0.00      0.00       435\n",
      " Good+Moderate       0.71      1.00      0.83      1065\n",
      "\n",
      "      accuracy                           0.71      1500\n",
      "     macro avg       0.35      0.50      0.42      1500\n",
      "  weighted avg       0.50      0.71      0.59      1500\n"
     ]
    }
   ],
   "source": [
    "y_pred = model.predict(X_val)\n",
    "accuracy = accuracy_score(y_val, y_pred)\n",
    "\n",
    "print(f\"Dokładność na zbiorze walidacyjnym: {accuracy:.2f}\")\n",
    "print(\"Raport klasyfikacji:\")\n",
    "print(classification_report(y_val, y_pred, target_names=['Poor+Hazardous', 'Good+Moderate'], zero_division=0))"
   ],
   "metadata": {
    "collapsed": false,
    "ExecuteTime": {
     "end_time": "2024-12-02T23:06:39.482362Z",
     "start_time": "2024-12-02T23:06:39.451325Z"
    }
   },
   "id": "1fa6cc46601c10b2",
   "execution_count": 14
  },
  {
   "cell_type": "markdown",
   "source": [
    "### Wyniki ewaluacji\n",
    "\n",
    "#### **Dokładność (Accuracy):**\n",
    "- Model osiągnął dokładność na poziomie **71%** na zbiorze walidacyjnym.\n",
    "- Wysoka dokładność wynika z dominacji klasy `Good+Moderate` (klasa `1`) w zbiorze danych.\n",
    "\n",
    "---\n",
    "\n",
    "#### **Raport klasyfikacji (classification_report):**\n",
    "\n",
    "| Klasa           | Precyzja (Precision) | Czułość (Recall) | F1-score | Liczba próbek (Support) |\n",
    "|------------------|----------------------|------------------|----------|-------------------------|\n",
    "| `Poor+Hazardous` | 0.00                | 0.00             | 0.00     | 435                     |\n",
    "| `Good+Moderate`  | 0.71                | 1.00             | 0.83     | 1065                    |\n",
    "\n",
    "- **Macro avg:**\n",
    "  - Precyzja: **0.35**\n",
    "  - Czułość: **0.50**\n",
    "  - F1-score: **0.42**\n",
    "- **Weighted avg:**\n",
    "  - Precyzja: **0.50**\n",
    "  - Czułość: **0.71**\n",
    "  - F1-score: **0.59**\n",
    "\n",
    "---\n",
    "\n",
    "### Interpretacja wyników\n",
    "\n",
    "1. **Klasa `Good+Moderate` (1):**\n",
    "   - Model doskonale przewiduje tę klasę (czułość 100%), co wynika z jej dominacji w zbiorze danych.\n",
    "   - Precyzja na poziomie 71% oznacza, że model popełnia błędy w przewidywaniu tej klasy, myląc niektóre próbki z klasą `Poor+Hazardous`.\n",
    "\n",
    "2. **Klasa `Poor+Hazardous` (0):**\n",
    "   - Model w ogóle nie przewiduje tej klasy (precyzja, czułość, F1-score wynoszą 0).\n",
    "   - To wskazuje na problem niezrównoważonych danych — klasa `Poor+Hazardous` jest marginalizowana przez model.\n",
    "\n",
    "3. **Macro avg:**\n",
    "   - Niska wartość (0.42) pokazuje, że model działa bardzo nierównomiernie między klasami.\n",
    "\n",
    "4. **Weighted avg:**\n",
    "   - Średnia ważona (0.59) jest podbita przez dominującą klasę `Good+Moderate`, co nie odzwierciedla pełnej skuteczności modelu.\n",
    "\n",
    "---\n",
    "\n",
    "### Wnioski i rekomendacje\n",
    "\n",
    "1. **Problem z niezrównoważonymi danymi:**\n",
    "   - Klasa `Poor+Hazardous` jest znacznie mniej liczna (435 próbek vs 1065 próbek), co prowadzi do ignorowania jej przez model.\n",
    "\n",
    "2. **Balansowanie klas:**\n",
    "   - Rozważ zastosowanie technik balansowania, takich jak **undersampling** klasy `Good+Moderate` lub **oversampling** klasy `Poor+Hazardous` (np. SMOTE).\n",
    "\n"
   ],
   "metadata": {
    "collapsed": false
   },
   "id": "61140d5bddd5188a"
  },
  {
   "cell_type": "code",
   "outputs": [
    {
     "name": "stdout",
     "output_type": "stream",
     "text": [
      "Rozkład klas w zbiorze treningowym po SMOTE:\n",
      " Air Quality Binary\n",
      "1    2435\n",
      "0    2435\n",
      "Name: count, dtype: int64\n",
      "Dokładność na zbiorze walidacyjnym po SMOTE: 0.51\n",
      "Raport klasyfikacji po SMOTE:\n",
      "                precision    recall  f1-score   support\n",
      "\n",
      "Poor+Hazardous       0.26      0.37      0.30       435\n",
      " Good+Moderate       0.69      0.57      0.63      1065\n",
      "\n",
      "      accuracy                           0.51      1500\n",
      "     macro avg       0.47      0.47      0.47      1500\n",
      "  weighted avg       0.56      0.51      0.53      1500\n"
     ]
    }
   ],
   "source": [
    "# Import SMOTE\n",
    "from imblearn.over_sampling import SMOTE\n",
    "\n",
    "# Zastosowanie SMOTE do balansowania danych\n",
    "smote = SMOTE(random_state=42)\n",
    "X_train_balanced, y_train_balanced = smote.fit_resample(X_train, y_train)\n",
    "\n",
    "# Sprawdzenie rozkładu klas po balansowaniu\n",
    "print(\"Rozkład klas w zbiorze treningowym po SMOTE:\\n\", pd.Series(y_train_balanced).value_counts())\n",
    "\n",
    "# Trenowanie modelu na zbalansowanych danych\n",
    "model.fit(X_train_balanced, y_train_balanced)\n",
    "\n",
    "# Ewaluacja modelu\n",
    "y_pred_balanced = model.predict(X_val)\n",
    "accuracy_balanced = accuracy_score(y_val, y_pred_balanced)\n",
    "\n",
    "print(f\"Dokładność na zbiorze walidacyjnym po SMOTE: {accuracy_balanced:.2f}\")\n",
    "print(\"Raport klasyfikacji po SMOTE:\")\n",
    "print(classification_report(y_val, y_pred_balanced, target_names=['Poor+Hazardous', 'Good+Moderate'], zero_division=0))"
   ],
   "metadata": {
    "collapsed": false,
    "ExecuteTime": {
     "end_time": "2024-12-02T23:13:00.350145Z",
     "start_time": "2024-12-02T23:13:00.161609Z"
    }
   },
   "id": "582378dd9852badc",
   "execution_count": 15
  },
  {
   "cell_type": "markdown",
   "source": [
    "### Wyniki ewaluacji po zastosowaniu SMOTE\n",
    "\n",
    "#### **Dokładność (Accuracy):**\n",
    "- Model osiągnął dokładność na poziomie **51%** na zbiorze walidacyjnym.\n",
    "- Jest to spadek w porównaniu do modelu bez SMOTE, co wskazuje na wyzwania związane z balansem między poprawą wyników dla klasy `Poor+Hazardous` a zachowaniem skuteczności dla `Good+Moderate`.\n",
    "\n",
    "---\n",
    "\n",
    "#### **Raport klasyfikacji (classification_report):**\n",
    "\n",
    "| Klasa           | Precyzja (Precision) | Czułość (Recall) | F1-score | Liczba próbek (Support) |\n",
    "|------------------|----------------------|------------------|----------|-------------------------|\n",
    "| `Poor+Hazardous` | 0.26                | 0.37             | 0.30     | 435                     |\n",
    "| `Good+Moderate`  | 0.69                | 0.57             | 0.63     | 1065                    |\n",
    "\n",
    "- **Macro avg:**\n",
    "  - Precyzja: **0.47**\n",
    "  - Czułość: **0.47**\n",
    "  - F1-score: **0.47**\n",
    "- **Weighted avg:**\n",
    "  - Precyzja: **0.56**\n",
    "  - Czułość: **0.51**\n",
    "  - F1-score: **0.53**\n",
    "\n",
    "---\n",
    "\n",
    "### Interpretacja wyników\n",
    "\n",
    "1. **Klasa `Good+Moderate` (1):**\n",
    "   - Precyzja wynosi **69%**, a czułość **57%**. Model nadal skutecznie przewiduje tę klasę, choć jej skuteczność spadła w porównaniu do wyników bez SMOTE.\n",
    "\n",
    "2. **Klasa `Poor+Hazardous` (0):**\n",
    "   - Precyzja wynosi **26%**, a czułość **37%**, co stanowi poprawę w porównaniu do modelu bez SMOTE (gdzie wszystkie metryki wynosiły 0).\n",
    "   - Model wciąż ma trudności z dokładnym klasyfikowaniem tej klasy.\n",
    "\n",
    "3. **Macro avg i Weighted avg:**\n",
    "   - Wyniki są bardziej zrównoważone niż w modelu bez SMOTE, co wskazuje na lepsze rozpoznawanie obu klas.\n",
    "\n",
    "---\n",
    "\n",
    "### Wnioski i rekomendacje\n",
    "\n",
    "1. **SMOTE poprawił wyniki dla klasy mniejszościowej (`Poor+Hazardous`):**\n",
    "   - Czułość wzrosła z 0 do **37%**.\n",
    "   - Precyzja również wzrosła, choć wciąż jest niska (**26%**).\n",
    "\n",
    "2. **Negatywny wpływ na ogólną dokładność:**\n",
    "   - Zbalansowanie danych spowodowało spadek ogólnej dokładności modelu z 71% do **51%**, co wskazuje na trudności w zachowaniu równowagi.\n",
    "\n"
   ],
   "metadata": {
    "collapsed": false
   },
   "id": "759328d4ba3d3d95"
  },
  {
   "cell_type": "code",
   "outputs": [],
   "source": [],
   "metadata": {
    "collapsed": false
   },
   "id": "e7eedabacc578892"
  }
 ],
 "metadata": {
  "kernelspec": {
   "display_name": "Python 3",
   "language": "python",
   "name": "python3"
  },
  "language_info": {
   "codemirror_mode": {
    "name": "ipython",
    "version": 2
   },
   "file_extension": ".py",
   "mimetype": "text/x-python",
   "name": "python",
   "nbconvert_exporter": "python",
   "pygments_lexer": "ipython2",
   "version": "2.7.6"
  }
 },
 "nbformat": 4,
 "nbformat_minor": 5
}
