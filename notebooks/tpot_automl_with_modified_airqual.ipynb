{
 "cells": [
  {
   "cell_type": "markdown",
   "source": [
    "# TPOT AutoML z Przekształconą Zmienną Air Quality\n",
    "\n",
    "W tym notebooku przekształcamy zmienną docelową `Air Quality` na skalę porządkową i wykorzystujemy TPOT do automatycznej selekcji najlepszego modelu."
   ],
   "metadata": {
    "collapsed": false
   },
   "id": "c6dd66699a13dafb"
  },
  {
   "cell_type": "code",
   "execution_count": 2,
   "id": "initial_id",
   "metadata": {
    "collapsed": true,
    "ExecuteTime": {
     "end_time": "2024-12-02T22:35:43.366230Z",
     "start_time": "2024-12-02T22:24:13.760111Z"
    }
   },
   "outputs": [
    {
     "name": "stdout",
     "output_type": "stream",
     "text": [
      "32 operators have been imported by TPOT.\n"
     ]
    },
    {
     "data": {
      "text/plain": "Optimization Progress:   0%|          | 0/300 [00:00<?, ?pipeline/s]",
      "application/vnd.jupyter.widget-view+json": {
       "version_major": 2,
       "version_minor": 0,
       "model_id": "a6fcc0a8127d494b8b1fdcf2e4bd9e30"
      }
     },
     "metadata": {},
     "output_type": "display_data"
    },
    {
     "name": "stdout",
     "output_type": "stream",
     "text": [
      "_pre_test decorator: _random_mutation_operator: num_test=0 Found array with 0 feature(s) (shape=(50, 0)) while a minimum of 1 is required by BernoulliNB..\n",
      "_pre_test decorator: _random_mutation_operator: num_test=0 Negative values in data passed to MultinomialNB (input X).\n",
      "_pre_test decorator: _random_mutation_operator: num_test=1 Negative values in data passed to MultinomialNB (input X).\n",
      "_pre_test decorator: _random_mutation_operator: num_test=2 __init__() got an unexpected keyword argument 'affinity'.\n",
      "_pre_test decorator: _random_mutation_operator: num_test=0 Negative values in data passed to MultinomialNB (input X).\n",
      "\n",
      "Generation 1 - Current Pareto front scores:\n",
      "\n",
      "-1\t0.4025714285714286\tExtraTreesClassifier(input_matrix, ExtraTreesClassifier__bootstrap=False, ExtraTreesClassifier__criterion=entropy, ExtraTreesClassifier__max_features=0.35000000000000003, ExtraTreesClassifier__min_samples_leaf=18, ExtraTreesClassifier__min_samples_split=9, ExtraTreesClassifier__n_estimators=100)\n",
      "_pre_test decorator: _random_mutation_operator: num_test=0 Negative values in data passed to MultinomialNB (input X).\n",
      "_pre_test decorator: _random_mutation_operator: num_test=0 Solver lbfgs supports only 'l2' or None penalties, got l1 penalty..\n",
      "_pre_test decorator: _random_mutation_operator: num_test=0 Negative values in data passed to MultinomialNB (input X).\n",
      "\n",
      "Generation 2 - Current Pareto front scores:\n",
      "\n",
      "-1\t0.4025714285714286\tExtraTreesClassifier(input_matrix, ExtraTreesClassifier__bootstrap=False, ExtraTreesClassifier__criterion=entropy, ExtraTreesClassifier__max_features=0.35000000000000003, ExtraTreesClassifier__min_samples_leaf=18, ExtraTreesClassifier__min_samples_split=9, ExtraTreesClassifier__n_estimators=100)\n",
      "\n",
      "-2\t0.40285714285714286\tBernoulliNB(MinMaxScaler(input_matrix), BernoulliNB__alpha=100.0, BernoulliNB__fit_prior=True)\n",
      "_pre_test decorator: _random_mutation_operator: num_test=0 Unsupported set of arguments: The combination of penalty='l1' and loss='hinge' is not supported, Parameters: penalty='l1', loss='hinge', dual=False.\n",
      "_pre_test decorator: _mate_operator: num_test=0 Negative values in data passed to MultinomialNB (input X).\n",
      "_pre_test decorator: _mate_operator: num_test=1 Negative values in data passed to MultinomialNB (input X).\n",
      "\n",
      "Generation 3 - Current Pareto front scores:\n",
      "\n",
      "-1\t0.4025714285714286\tExtraTreesClassifier(input_matrix, ExtraTreesClassifier__bootstrap=False, ExtraTreesClassifier__criterion=entropy, ExtraTreesClassifier__max_features=0.35000000000000003, ExtraTreesClassifier__min_samples_leaf=18, ExtraTreesClassifier__min_samples_split=9, ExtraTreesClassifier__n_estimators=100)\n",
      "\n",
      "-2\t0.40285714285714286\tBernoulliNB(MinMaxScaler(input_matrix), BernoulliNB__alpha=100.0, BernoulliNB__fit_prior=True)\n",
      "_pre_test decorator: _random_mutation_operator: num_test=0 Solver lbfgs supports only 'l2' or None penalties, got l1 penalty..\n",
      "_pre_test decorator: _random_mutation_operator: num_test=0 Solver lbfgs supports only 'l2' or None penalties, got l1 penalty..\n",
      "\n",
      "Generation 4 - Current Pareto front scores:\n",
      "\n",
      "-1\t0.40285714285714286\tBernoulliNB(input_matrix, BernoulliNB__alpha=100.0, BernoulliNB__fit_prior=True)\n",
      "_pre_test decorator: _random_mutation_operator: num_test=0 Negative values in data passed to MultinomialNB (input X).\n",
      "_pre_test decorator: _random_mutation_operator: num_test=0 The 'loss' parameter of SGDClassifier must be a str among {'perceptron', 'epsilon_insensitive', 'modified_huber', 'squared_hinge', 'squared_epsilon_insensitive', 'hinge', 'log_loss', 'huber', 'squared_error'}. Got 'log' instead..\n",
      "_pre_test decorator: _random_mutation_operator: num_test=0 Negative values in data passed to MultinomialNB (input X).\n",
      "Pipeline encountered that has previously been evaluated during the optimization process. Using the score from the previous evaluation.\n",
      "\n",
      "Generation 5 - Current Pareto front scores:\n",
      "\n",
      "-1\t0.40371428571428575\tExtraTreesClassifier(input_matrix, ExtraTreesClassifier__bootstrap=True, ExtraTreesClassifier__criterion=entropy, ExtraTreesClassifier__max_features=0.6000000000000001, ExtraTreesClassifier__min_samples_leaf=20, ExtraTreesClassifier__min_samples_split=20, ExtraTreesClassifier__n_estimators=100)\n",
      "Najlepszy pipeline sugerowany przez TPOT:\n",
      "Pipeline(steps=[('extratreesclassifier',\n",
      "                 ExtraTreesClassifier(bootstrap=True, criterion='entropy',\n",
      "                                      max_features=0.6000000000000001,\n",
      "                                      min_samples_leaf=20, min_samples_split=20,\n",
      "                                      random_state=42))])\n",
      "Dokładność najlepszego modelu na danych testowych: 0.39\n"
     ]
    }
   ],
   "source": [
    "# Import bibliotek\n",
    "import pandas as pd\n",
    "from sklearn.model_selection import train_test_split\n",
    "from tpot import TPOTClassifier\n",
    "\n",
    "# Wczytanie danych\n",
    "file_path = 'C:\\\\Users\\\\shind\\\\Documents\\\\GitHub\\\\s26102-Air-Quality-And-Pollution\\\\data\\\\pollution_dataset.csv'\n",
    "data = pd.read_csv(file_path)\n",
    "\n",
    "# Przekształcenie zmiennej Air Quality na skalę porządkową\n",
    "quality_mapping = {\n",
    "    \"Good\": 0,\n",
    "    \"Moderate\": 1,\n",
    "    \"Poor\": 2,\n",
    "    \"Hazardous\": 3\n",
    "}\n",
    "data['Air Quality'] = data['Air Quality'].map(quality_mapping)\n",
    "\n",
    "# Usunięcie redundantnej kolumny PM10 (opcjonalne)\n",
    "X = data.drop(columns=['Air Quality', 'PM10'])\n",
    "y = data['Air Quality']\n",
    "\n",
    "# Podział na zbiory treningowe i testowe\n",
    "X_train, X_test, y_train, y_test = train_test_split(X, y, test_size=0.3, random_state=42)\n",
    "\n",
    "# Inicjalizacja i uruchomienie TPOT\n",
    "tpot = TPOTClassifier(generations=5, population_size=50, verbosity=3, random_state=42, scoring='accuracy')\n",
    "\n",
    "# Trenowanie AutoML\n",
    "tpot.fit(X_train, y_train)\n",
    "\n",
    "# Wyświetlenie najlepszego pipeline'u\n",
    "print(\"Najlepszy pipeline sugerowany przez TPOT:\")\n",
    "print(tpot.fitted_pipeline_)\n",
    "\n",
    "# Dokładność na danych testowych\n",
    "accuracy = tpot.score(X_test, y_test)\n",
    "print(f\"Dokładność najlepszego modelu na danych testowych: {accuracy:.2f}\")\n",
    "\n",
    "# Eksport najlepszego pipeline'u\n",
    "tpot.export('tpot_best_pipeline_with_modified_airqual.py')"
   ]
  },
  {
   "cell_type": "code",
   "outputs": [],
   "source": [],
   "metadata": {
    "collapsed": false
   },
   "id": "ffad0d7b002f875f"
  }
 ],
 "metadata": {
  "kernelspec": {
   "display_name": "Python 3",
   "language": "python",
   "name": "python3"
  },
  "language_info": {
   "codemirror_mode": {
    "name": "ipython",
    "version": 2
   },
   "file_extension": ".py",
   "mimetype": "text/x-python",
   "name": "python",
   "nbconvert_exporter": "python",
   "pygments_lexer": "ipython2",
   "version": "2.7.6"
  }
 },
 "nbformat": 4,
 "nbformat_minor": 5
}
